{
 "cells": [
  {
   "cell_type": "markdown",
   "metadata": {},
   "source": [
    "# Conditions when one can assume steady state in the shell"
   ]
  },
  {
   "cell_type": "code",
   "execution_count": 1,
   "metadata": {},
   "outputs": [],
   "source": [
    "import numpy as np\n",
    "import matplotlib.pyplot as plt\n",
    "import math\n",
    "import os, traceback, sys, h5py\n",
    "\n",
    "import random"
   ]
  },
  {
   "cell_type": "markdown",
   "metadata": {},
   "source": [
    "### Importing the code + PyPackage locally"
   ]
  },
  {
   "cell_type": "code",
   "execution_count": 2,
   "metadata": {},
   "outputs": [],
   "source": [
    "sys.path.append('/Users/ajinkyakulkarni/Desktop/GitHub/py-pde')\n",
    "import pde\n",
    "\n",
    "sys.path.append('/Users/ajinkyakulkarni/Desktop/GitHub/py-droplets')\n",
    "import droplets\n",
    "\n",
    "sys.path.append('/Users/ajinkyakulkarni/Desktop/GitHub/py-phasesep')\n",
    "import phasesep\n",
    "\n",
    "sys.path.append('/Users/ajinkyakulkarni/Desktop/GitHub/agent-based-emulsions')\n",
    "import agent_based"
   ]
  },
  {
   "cell_type": "markdown",
   "metadata": {},
   "source": [
    "######################################################################################################################"
   ]
  },
  {
   "cell_type": "code",
   "execution_count": 3,
   "metadata": {
    "scrolled": true
   },
   "outputs": [
    {
     "name": "stderr",
     "output_type": "stream",
     "text": [
      "rm: *.txt: No such file or directory\n",
      "rm: *.hdf5: No such file or directory\n",
      "rm: *.png: No such file or directory\n",
      "rm: *.npy: No such file or directory\n"
     ]
    },
    {
     "data": {
      "text/plain": [
       "256"
      ]
     },
     "execution_count": 3,
     "metadata": {},
     "output_type": "execute_result"
    }
   ],
   "source": [
    "import os\n",
    "\n",
    "os.system('rm *.txt *.hdf5 *.png *.npy')"
   ]
  },
  {
   "cell_type": "code",
   "execution_count": 4,
   "metadata": {},
   "outputs": [],
   "source": [
    "D = 1\n",
    "\n",
    "A = 0\n",
    "\n",
    "k = 1e-3\n",
    "\n",
    "R = 20\n",
    "\n",
    "L = 100"
   ]
  },
  {
   "cell_type": "code",
   "execution_count": 5,
   "metadata": {},
   "outputs": [
    {
     "data": {
      "text/plain": [
       "31.622776601683793"
      ]
     },
     "execution_count": 5,
     "metadata": {},
     "output_type": "execute_result"
    }
   ],
   "source": [
    "xeta = np.sqrt(D/k)\n",
    "\n",
    "xeta"
   ]
  },
  {
   "cell_type": "code",
   "execution_count": 6,
   "metadata": {},
   "outputs": [
    {
     "data": {
      "text/plain": [
       "(3162.2776601683795, 100.0)"
      ]
     },
     "execution_count": 6,
     "metadata": {},
     "output_type": "execute_result"
    }
   ],
   "source": [
    "timescale_1 = np.sqrt((L**2) / (D*k))\n",
    "\n",
    "timescale_2 = np.sqrt((L**2) / D)\n",
    "\n",
    "timescale_1, timescale_2"
   ]
  },
  {
   "cell_type": "code",
   "execution_count": 7,
   "metadata": {},
   "outputs": [
    {
     "data": {
      "text/plain": [
       "(0.0083, 0.1)"
      ]
     },
     "execution_count": 7,
     "metadata": {},
     "output_type": "execute_result"
    }
   ],
   "source": [
    "cEqOut = 2*0.083/R\n",
    "\n",
    "cfar = 0.1\n",
    "\n",
    "cEqOut, cfar"
   ]
  },
  {
   "cell_type": "code",
   "execution_count": 8,
   "metadata": {},
   "outputs": [],
   "source": [
    "grid = pde.CartesianGrid([[R, R + L]], [L], periodic = [False])\n",
    "\n",
    "field = pde.ScalarField.random_uniform(grid)"
   ]
  },
  {
   "cell_type": "code",
   "execution_count": 9,
   "metadata": {},
   "outputs": [],
   "source": [
    "bcs = [{\"value\": cEqOut}, {\"value\": cfar}]\n",
    "\n",
    "eq = phasesep.ReactionDiffusionPDE({'diffusivity': D, 'reaction_flux': f'({A}) - ({k}) * c',\n",
    "                                   \"bc\": bcs})"
   ]
  },
  {
   "cell_type": "code",
   "execution_count": 10,
   "metadata": {},
   "outputs": [
    {
     "data": {
      "text/plain": [
       "[<matplotlib.lines.Line2D at 0x7feb9bb66e80>]"
      ]
     },
     "execution_count": 10,
     "metadata": {},
     "output_type": "execute_result"
    },
    {
     "data": {
      "image/png": "[encoded data removed]",
      "text/plain": [
       "<Figure size 432x288 with 1 Axes>"
      ]
     },
     "metadata": {
      "needs_background": "light"
     },
     "output_type": "display_data"
    }
   ],
   "source": [
    "x = np.linspace(R, R + L, 100)\n",
    "\n",
    "analytical_solution = (1/np.sinh(L/xeta))*(-(cfar*np.sinh((R - x)/xeta)) + cEqOut*np.sinh((L + R - x)/xeta))\n",
    "\n",
    "plt.plot(x, analytical_solution)"
   ]
  },
  {
   "cell_type": "code",
   "execution_count": null,
   "metadata": {},
   "outputs": [
    {
     "data": {
      "application/vnd.jupyter.widget-view+json": {
       "model_id": "88c1af441f6743c78a267697e0b25d2a",
       "version_major": 2,
       "version_minor": 0
      },
      "text/plain": [
       "Output()"
      ]
     },
     "metadata": {},
     "output_type": "display_data"
    },
    {
     "data": {
      "application/vnd.jupyter.widget-view+json": {
       "model_id": "abf7e42c286f4dffa027a810f3a34fb4",
       "version_major": 2,
       "version_minor": 0
      },
      "text/plain": [
       "  0%|          | 0/1000.0 [00:00<?, ?it/s]"
      ]
     },
     "metadata": {},
     "output_type": "display_data"
    }
   ],
   "source": [
    "plot_tracker = pde.trackers.PlotTracker(interval = 1)\n",
    "\n",
    "sol = eq.solve(field, t_range=1000, dt = 0.01, tracker = [plot_tracker, 'progress']);"
   ]
  },
  {
   "cell_type": "code",
   "execution_count": null,
   "metadata": {},
   "outputs": [],
   "source": []
  }
 ],
 "metadata": {
  "kernelspec": {
   "display_name": "Python 3 (ipykernel)",
   "language": "python",
   "name": "python3"
  },
  "language_info": {
   "codemirror_mode": {
    "name": "ipython",
    "version": 3
   },
   "file_extension": ".py",
   "mimetype": "text/x-python",
   "name": "python",
   "nbconvert_exporter": "python",
   "pygments_lexer": "ipython3",
   "version": "3.8.11"
  }
 },
 "nbformat": 4,
 "nbformat_minor": 4
}
