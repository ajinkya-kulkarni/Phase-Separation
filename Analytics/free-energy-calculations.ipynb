{
 "cells": [
  {
   "cell_type": "code",
   "execution_count": 1,
   "metadata": {},
   "outputs": [],
   "source": [
    "import numpy as np\n",
    "import matplotlib.pyplot as plt\n",
    "import math"
   ]
  },
  {
   "cell_type": "code",
   "execution_count": 2,
   "metadata": {},
   "outputs": [],
   "source": [
    "from sympy import *\n",
    "import sympy as sym"
   ]
  },
  {
   "cell_type": "markdown",
   "metadata": {},
   "source": [
    "#### Initialize the variables required"
   ]
  },
  {
   "cell_type": "code",
   "execution_count": 3,
   "metadata": {},
   "outputs": [],
   "source": [
    "phi = sym.symbols('phi')\n",
    "\n",
    "gamma, b, phi_0_in, phi_0_out, phi_eq_in, phi_eq_out = \\\n",
    "sym.symbols('\\gamma, b, \\phi^{0}_{in}, \\phi^{0}_{out}, \\phi^{eq}_{in}, \\phi^{eq}_{out}', positive = True)"
   ]
  },
  {
   "cell_type": "code",
   "execution_count": 4,
   "metadata": {
    "scrolled": true
   },
   "outputs": [
    {
     "data": {
      "text/latex": [
       "$\\displaystyle \\frac{b \\left(- \\phi^{0}_{in} + \\phi\\right)^{2} \\left(- \\phi^{0}_{out} + \\phi\\right)^{2}}{2}$"
      ],
      "text/plain": [
       "b*(-\\phi^{0}_{in} + phi)**2*(-\\phi^{0}_{out} + phi)**2/2"
      ]
     },
     "execution_count": 4,
     "metadata": {},
     "output_type": "execute_result"
    }
   ],
   "source": [
    "free_energy = (b/2) * (phi - phi_0_in)**2 * ((phi - phi_0_out)**2)\n",
    "\n",
    "free_energy"
   ]
  },
  {
   "cell_type": "code",
   "execution_count": 5,
   "metadata": {},
   "outputs": [
    {
     "data": {
      "text/latex": [
       "$\\displaystyle \\frac{b \\left(- 2 \\phi^{0}_{in} + 2 \\phi\\right) \\left(- \\phi^{0}_{out} + \\phi\\right)^{2}}{2} + \\frac{b \\left(- \\phi^{0}_{in} + \\phi\\right)^{2} \\left(- 2 \\phi^{0}_{out} + 2 \\phi\\right)}{2}$"
      ],
      "text/plain": [
       "b*(-2*\\phi^{0}_{in} + 2*phi)*(-\\phi^{0}_{out} + phi)**2/2 + b*(-\\phi^{0}_{in} + phi)**2*(-2*\\phi^{0}_{out} + 2*phi)/2"
      ]
     },
     "execution_count": 5,
     "metadata": {},
     "output_type": "execute_result"
    }
   ],
   "source": [
    "D1 = diff(free_energy, phi)\n",
    "\n",
    "D1"
   ]
  },
  {
   "cell_type": "code",
   "execution_count": 6,
   "metadata": {},
   "outputs": [
    {
     "data": {
      "text/latex": [
       "$\\displaystyle b \\left(- 2 \\phi^{0}_{in} + 2 \\phi\\right) \\left(- 2 \\phi^{0}_{out} + 2 \\phi\\right) + b \\left(- \\phi^{0}_{in} + \\phi\\right)^{2} + b \\left(- \\phi^{0}_{out} + \\phi\\right)^{2}$"
      ],
      "text/plain": [
       "b*(-2*\\phi^{0}_{in} + 2*phi)*(-2*\\phi^{0}_{out} + 2*phi) + b*(-\\phi^{0}_{in} + phi)**2 + b*(-\\phi^{0}_{out} + phi)**2"
      ]
     },
     "execution_count": 6,
     "metadata": {},
     "output_type": "execute_result"
    }
   ],
   "source": [
    "D2 = diff(diff(free_energy, phi), phi)\n",
    "\n",
    "D2"
   ]
  },
  {
   "cell_type": "code",
   "execution_count": 7,
   "metadata": {},
   "outputs": [
    {
     "data": {
      "text/latex": [
       "$\\displaystyle \\frac{2 \\gamma}{\\phi^{0}_{out} b \\left(\\phi^{0}_{in} - \\phi^{0}_{out}\\right)^{3}}$"
      ],
      "text/plain": [
       "2*\\gamma/(\\phi^{0}_{out}*b*(\\phi^{0}_{in} - \\phi^{0}_{out})**3)"
      ]
     },
     "execution_count": 7,
     "metadata": {},
     "output_type": "execute_result"
    }
   ],
   "source": [
    "L_gamma_out = simplify( (2*gamma) / ( (phi_0_in - phi_0_out) * (phi_0_out) * (D2.subs({phi:phi_0_out})) ) )\n",
    "\n",
    "L_gamma_out"
   ]
  },
  {
   "cell_type": "code",
   "execution_count": 8,
   "metadata": {},
   "outputs": [
    {
     "data": {
      "text/latex": [
       "$\\displaystyle \\frac{2 \\gamma}{\\phi^{0}_{in} b \\left(\\phi^{0}_{in} - \\phi^{0}_{out}\\right)^{3}}$"
      ],
      "text/plain": [
       "2*\\gamma/(\\phi^{0}_{in}*b*(\\phi^{0}_{in} - \\phi^{0}_{out})**3)"
      ]
     },
     "execution_count": 8,
     "metadata": {},
     "output_type": "execute_result"
    }
   ],
   "source": [
    "L_gamma_in = simplify ( (2*gamma) / ( (phi_0_in - phi_0_out) * (phi_0_in) * (D2.subs({phi:phi_0_in})) ) )\n",
    "\n",
    "L_gamma_in"
   ]
  },
  {
   "cell_type": "code",
   "execution_count": 9,
   "metadata": {},
   "outputs": [
    {
     "name": "stdout",
     "output_type": "stream",
     "text": [
      "\\frac{2 \\gamma}{\\phi^{0}_{out} b \\left(\\phi^{0}_{in} - \\phi^{0}_{out}\\right)^{3}}\n",
      "\\frac{2 \\gamma}{\\phi^{0}_{in} b \\left(\\phi^{0}_{in} - \\phi^{0}_{out}\\right)^{3}}\n"
     ]
    },
    {
     "data": {
      "text/plain": [
       "(None, None)"
      ]
     },
     "execution_count": 9,
     "metadata": {},
     "output_type": "execute_result"
    }
   ],
   "source": [
    "print(latex(L_gamma_out)), print(latex(L_gamma_in))"
   ]
  },
  {
   "cell_type": "code",
   "execution_count": null,
   "metadata": {},
   "outputs": [],
   "source": []
  }
 ],
 "metadata": {
  "kernelspec": {
   "display_name": "Python 3 (ipykernel)",
   "language": "python",
   "name": "python3"
  },
  "language_info": {
   "codemirror_mode": {
    "name": "ipython",
    "version": 3
   },
   "file_extension": ".py",
   "mimetype": "text/x-python",
   "name": "python",
   "nbconvert_exporter": "python",
   "pygments_lexer": "ipython3",
   "version": "3.8.11"
  }
 },
 "nbformat": 4,
 "nbformat_minor": 4
}
