{
 "cells": [
  {
   "cell_type": "code",
   "execution_count": null,
   "metadata": {},
   "outputs": [],
   "source": []
  },
  {
   "cell_type": "code",
   "execution_count": 1,
   "metadata": {},
   "outputs": [],
   "source": [
    "import numpy as np\n",
    "import matplotlib.pyplot as plt\n",
    "import math"
   ]
  },
  {
   "cell_type": "code",
   "execution_count": 2,
   "metadata": {},
   "outputs": [],
   "source": [
    "plt.rcParams.update({'font.size': 25})\n",
    "\n",
    "%config InlineBackend.figure_format='retina'"
   ]
  },
  {
   "cell_type": "code",
   "execution_count": 3,
   "metadata": {},
   "outputs": [],
   "source": [
    "import warnings\n",
    "\n",
    "warnings.filterwarnings(\"ignore\")"
   ]
  },
  {
   "cell_type": "code",
   "execution_count": 4,
   "metadata": {},
   "outputs": [],
   "source": [
    "from sympy import *\n",
    "import sympy as sym\n",
    "\n",
    "sym.init_printing()"
   ]
  },
  {
   "cell_type": "code",
   "execution_count": 5,
   "metadata": {},
   "outputs": [],
   "source": [
    "from IPython.display import Image"
   ]
  },
  {
   "cell_type": "code",
   "execution_count": 6,
   "metadata": {},
   "outputs": [],
   "source": [
    "r, theta, phi = sym.symbols('r, theta, phi', positive = True)\n",
    "\n",
    "R, D, cZeroIn, cEqIn, k, zeta = sym.symbols('R, D, c^{0}_{in}, c^{eq}_{in}, k, \\zeta', positive = True)\n",
    "\n",
    "ScZeroIn = sym.symbols('s(c^{0}_{in})')"
   ]
  },
  {
   "cell_type": "code",
   "execution_count": 7,
   "metadata": {},
   "outputs": [
    {
     "data": {
      "image/png": "[encoded data removed]",
      "text/latex": [
       "$\\displaystyle \\frac{\\sqrt{D}}{\\sqrt{k}}$"
      ],
      "text/plain": [
       "√D\n",
       "──\n",
       "√k"
      ]
     },
     "execution_count": 7,
     "metadata": {},
     "output_type": "execute_result"
    }
   ],
   "source": [
    "zeta = sqrt(D/(k))\n",
    "\n",
    "zeta"
   ]
  },
  {
   "cell_type": "code",
   "execution_count": null,
   "metadata": {},
   "outputs": [],
   "source": []
  },
  {
   "cell_type": "code",
   "execution_count": 11,
   "metadata": {},
   "outputs": [
    {
     "data": {
      "image/png": "[encoded data removed]",
      "text/latex": [
       "$\\displaystyle - \\frac{R \\left(c^{0}_{in} k - c^{eq}_{in} k + s(c^{0}_{in})\\right) \\sinh{\\left(\\frac{\\sqrt{k} r}{\\sqrt{D}} \\right)} \\operatorname{csch}{\\left(\\frac{R \\sqrt{k}}{\\sqrt{D}} \\right)}}{k r} + c^{0}_{in} + \\frac{s(c^{0}_{in})}{k}$"
      ],
      "text/plain": [
       "                                                          ⎛√k⋅r⎞     ⎛R⋅√k⎞        \n",
       "  R⋅(c_{in}__{0}⋅k - c_{in}__{eq}⋅k + s(c_{in})__{0})⋅sinh⎜────⎟⋅csch⎜────⎟        \n",
       "                                                          ⎝ √D ⎠     ⎝ √D ⎠        \n",
       "- ───────────────────────────────────────────────────────────────────────── + c_{in\n",
       "                                     k⋅r                                           \n",
       "\n",
       "                       \n",
       "                       \n",
       "         s(c_{in})__{0}\n",
       "}__{0} + ──────────────\n",
       "               k       "
      ]
     },
     "execution_count": 11,
     "metadata": {},
     "output_type": "execute_result"
    }
   ],
   "source": [
    "solution = cZeroIn + ScZeroIn/k - (R*(-(cEqIn*k) + cZeroIn*k + ScZeroIn)*csch(R/zeta)*sinh(r/zeta))/(k*r)\n",
    "\n",
    "solution"
   ]
  },
  {
   "cell_type": "code",
   "execution_count": null,
   "metadata": {},
   "outputs": [],
   "source": [
    "local_flux"
   ]
  },
  {
   "cell_type": "code",
   "execution_count": null,
   "metadata": {},
   "outputs": [],
   "source": []
  },
  {
   "cell_type": "code",
   "execution_count": null,
   "metadata": {},
   "outputs": [],
   "source": []
  },
  {
   "cell_type": "code",
   "execution_count": null,
   "metadata": {},
   "outputs": [],
   "source": []
  },
  {
   "cell_type": "code",
   "execution_count": null,
   "metadata": {},
   "outputs": [],
   "source": []
  },
  {
   "cell_type": "markdown",
   "metadata": {},
   "source": [
    "### Verify the solution by plugging it in the equation"
   ]
  },
  {
   "cell_type": "code",
   "execution_count": null,
   "metadata": {},
   "outputs": [],
   "source": [
    "Image(\"laplacian3D.jpeg\", width = 500)"
   ]
  },
  {
   "cell_type": "code",
   "execution_count": null,
   "metadata": {},
   "outputs": [],
   "source": [
    "del_c_in_by_del_r = diff(c_in, r)"
   ]
  },
  {
   "cell_type": "code",
   "execution_count": null,
   "metadata": {},
   "outputs": [],
   "source": [
    "del_c_in_by_del_phi = diff(c_in, phi)"
   ]
  },
  {
   "cell_type": "code",
   "execution_count": null,
   "metadata": {},
   "outputs": [],
   "source": [
    "del_c_in_by_del_theta = diff(c_in, theta)"
   ]
  },
  {
   "cell_type": "code",
   "execution_count": null,
   "metadata": {},
   "outputs": [],
   "source": [
    "spherical_laplacian = (1/(r*r))*diff((del_c_in_by_del_r*(r*r)), r) + \\\n",
    "                        (1/(r*r*sin(phi)*sin(phi)))*diff(del_c_in_by_del_theta, theta) + \\\n",
    "                        (1/(r*r*sin(phi)))*diff((del_c_in_by_del_phi*sin(phi)), phi)"
   ]
  },
  {
   "cell_type": "code",
   "execution_count": null,
   "metadata": {},
   "outputs": [],
   "source": [
    "if (simplify(D * spherical_laplacian + KF*(1 - c_in) - KB*c_in) != 0):\n",
    "    \n",
    "    raise ValueError(\"ERROR: Check the analytics again\")\n",
    "    \n",
    "print()"
   ]
  },
  {
   "cell_type": "markdown",
   "metadata": {},
   "source": [
    "### Solve for $C_1$ and $C_2$"
   ]
  },
  {
   "cell_type": "code",
   "execution_count": null,
   "metadata": {},
   "outputs": [],
   "source": [
    "c_in"
   ]
  },
  {
   "cell_type": "markdown",
   "metadata": {},
   "source": [
    "######################################################################################################################"
   ]
  },
  {
   "cell_type": "markdown",
   "metadata": {},
   "source": [
    "Use BC $\\#2 \\longrightarrow D\\nabla c_{in} \\vert_{r=R} = 0$"
   ]
  },
  {
   "cell_type": "code",
   "execution_count": null,
   "metadata": {},
   "outputs": [],
   "source": [
    "gradient = -D*(diff(c_in, r) + \n",
    "               (1/r)*diff(c_in, phi) + \n",
    "               (1/(r*sin(phi)))*diff(c_in, theta))\n",
    "\n",
    "gradient_at_centre = limit(gradient, r, 0)\n",
    "\n",
    "gradient_at_centre"
   ]
  },
  {
   "cell_type": "code",
   "execution_count": null,
   "metadata": {},
   "outputs": [],
   "source": [
    "### Hence C_1 = -zeta*C_2"
   ]
  },
  {
   "cell_type": "markdown",
   "metadata": {},
   "source": [
    "Use BC $\\#1 \\longrightarrow c_{in} \\vert_{r=R} = c^{eq}_{in}$"
   ]
  },
  {
   "cell_type": "code",
   "execution_count": null,
   "metadata": {
    "scrolled": true
   },
   "outputs": [],
   "source": [
    "eq1 = Eq(c_in.subs({r:R, C_1: - zeta * C_2}) - cEqIn, 0)\n",
    "\n",
    "eq1"
   ]
  },
  {
   "cell_type": "code",
   "execution_count": null,
   "metadata": {},
   "outputs": [],
   "source": [
    "solved_C_2 = solve(eq1, C_2)[0]\n",
    "\n",
    "solved_C_2"
   ]
  },
  {
   "cell_type": "code",
   "execution_count": null,
   "metadata": {},
   "outputs": [],
   "source": [
    "solved_C_1 = -zeta * solved_C_2\n",
    "\n",
    "solved_C_1"
   ]
  },
  {
   "cell_type": "code",
   "execution_count": null,
   "metadata": {},
   "outputs": [],
   "source": [
    "solved_C_1, solved_C_2"
   ]
  },
  {
   "cell_type": "markdown",
   "metadata": {},
   "source": [
    "######################################################################################################################"
   ]
  },
  {
   "cell_type": "code",
   "execution_count": null,
   "metadata": {},
   "outputs": [],
   "source": [
    "solved_c_in = c_in.subs({C_1: solved_C_1, C_2: solved_C_2})\n",
    "\n",
    "solved_c_in"
   ]
  },
  {
   "cell_type": "markdown",
   "metadata": {},
   "source": [
    "### Verify the solution by plugging it in the equation (again)"
   ]
  },
  {
   "cell_type": "code",
   "execution_count": null,
   "metadata": {},
   "outputs": [],
   "source": [
    "Image(\"laplacian3D.jpeg\", width = 500)"
   ]
  },
  {
   "cell_type": "code",
   "execution_count": null,
   "metadata": {},
   "outputs": [],
   "source": [
    "del_solved_c_in_by_del_r = diff(solved_c_in, r)"
   ]
  },
  {
   "cell_type": "code",
   "execution_count": null,
   "metadata": {},
   "outputs": [],
   "source": [
    "del_solved_c_in_by_del_phi = diff(solved_c_in, phi)"
   ]
  },
  {
   "cell_type": "code",
   "execution_count": null,
   "metadata": {},
   "outputs": [],
   "source": [
    "del_solved_c_in_by_del_theta = diff(solved_c_in, theta)"
   ]
  },
  {
   "cell_type": "code",
   "execution_count": null,
   "metadata": {},
   "outputs": [],
   "source": [
    "spherical_laplacian = (1/(r*r))*diff((del_solved_c_in_by_del_r*(r*r)), r) + \\\n",
    "                        (1/(r*r*sin(phi)*sin(phi)))*diff(del_solved_c_in_by_del_theta, theta) + \\\n",
    "                        (1/(r*r*sin(phi)))*diff((del_solved_c_in_by_del_phi*sin(phi)), phi)"
   ]
  },
  {
   "cell_type": "code",
   "execution_count": null,
   "metadata": {
    "scrolled": true
   },
   "outputs": [],
   "source": [
    "if (simplify(D * spherical_laplacian + KF*(1 - solved_c_in) - KB*solved_c_in) != 0):\n",
    "    \n",
    "    raise ValueError(\"ERROR: Check the analytics again\")\n",
    "    \n",
    "print()"
   ]
  },
  {
   "cell_type": "markdown",
   "metadata": {},
   "source": [
    "### Fluxes evaluated inside the droplet"
   ]
  },
  {
   "cell_type": "code",
   "execution_count": null,
   "metadata": {},
   "outputs": [],
   "source": [
    "Image(\"gradient3D.jpeg\", width = 300)"
   ]
  },
  {
   "cell_type": "code",
   "execution_count": null,
   "metadata": {},
   "outputs": [],
   "source": [
    "J_IN = -D*(diff(solved_c_in, r) + (1/r)*diff(solved_c_in, phi) + (1/(r*sin(phi)))*diff(solved_c_in, theta))\n",
    "\n",
    "J_IN_at_surface = J_IN.subs({r:R})\n",
    "\n",
    "simplify(J_IN_at_surface)"
   ]
  },
  {
   "cell_type": "markdown",
   "metadata": {},
   "source": [
    "######################################################################################################################"
   ]
  },
  {
   "cell_type": "markdown",
   "metadata": {},
   "source": [
    "## Passive Droplet check $\\longrightarrow A, B = 0$"
   ]
  },
  {
   "cell_type": "code",
   "execution_count": null,
   "metadata": {},
   "outputs": [],
   "source": [
    "J_IN_at_surface_without_reactions = limit(limit(J_IN_at_surface, KF, 0), KB, 0)\n",
    "\n",
    "J_IN_at_surface_without_reactions"
   ]
  },
  {
   "cell_type": "code",
   "execution_count": null,
   "metadata": {},
   "outputs": [],
   "source": [
    "if (simplify(J_IN_at_surface_without_reactions) != 0):\n",
    "    \n",
    "    raise ValueError(\"ERROR: Check the analytics again\")\n",
    "    \n",
    "print()"
   ]
  },
  {
   "cell_type": "markdown",
   "metadata": {},
   "source": [
    "######################################################################################################################"
   ]
  },
  {
   "cell_type": "code",
   "execution_count": null,
   "metadata": {},
   "outputs": [],
   "source": [
    "J_IN_at_surface_with_values = J_IN_at_surface.subs({KF:1e-5, KB:1e-4, D:1, cEqIn:(1+(2*0.0833)/R)})\n",
    "\n",
    "J_IN_at_surface_with_values"
   ]
  },
  {
   "cell_type": "markdown",
   "metadata": {},
   "source": [
    "######################################################################################################################"
   ]
  },
  {
   "cell_type": "markdown",
   "metadata": {},
   "source": [
    "######################################################################################################################"
   ]
  },
  {
   "cell_type": "markdown",
   "metadata": {},
   "source": [
    "######################################################################################################################"
   ]
  },
  {
   "cell_type": "code",
   "execution_count": null,
   "metadata": {},
   "outputs": [],
   "source": [
    "C_3, C_4 = sym.symbols('C_3, C_4', real = True)"
   ]
  },
  {
   "cell_type": "code",
   "execution_count": null,
   "metadata": {},
   "outputs": [],
   "source": [
    "c_out = cInf + (C_3/r)*(exp(-r/zeta)) + (C_4 * zeta/r)*(exp(r/zeta))\n",
    "\n",
    "simplify(c_out)"
   ]
  },
  {
   "cell_type": "markdown",
   "metadata": {},
   "source": [
    "### Verify the solution by plugging it in the equation"
   ]
  },
  {
   "cell_type": "code",
   "execution_count": null,
   "metadata": {},
   "outputs": [],
   "source": [
    "Image(\"laplacian3D.jpeg\", width = 500)"
   ]
  },
  {
   "cell_type": "code",
   "execution_count": null,
   "metadata": {},
   "outputs": [],
   "source": [
    "del_c_out_by_del_r = diff(c_out, r)"
   ]
  },
  {
   "cell_type": "code",
   "execution_count": null,
   "metadata": {},
   "outputs": [],
   "source": [
    "del_c_out_by_del_phi = diff(c_out, phi)"
   ]
  },
  {
   "cell_type": "code",
   "execution_count": null,
   "metadata": {},
   "outputs": [],
   "source": [
    "del_c_out_by_del_theta = diff(c_out, theta)"
   ]
  },
  {
   "cell_type": "code",
   "execution_count": null,
   "metadata": {},
   "outputs": [],
   "source": [
    "spherical_laplacian = (1/(r*r))*diff((del_c_out_by_del_r*(r*r)), r) + \\\n",
    "                        (1/(r*r*sin(phi)*sin(phi)))*diff(del_c_out_by_del_theta, theta) + \\\n",
    "                        (1/(r*r*sin(phi)))*diff((del_c_out_by_del_phi*sin(phi)), phi)"
   ]
  },
  {
   "cell_type": "code",
   "execution_count": null,
   "metadata": {},
   "outputs": [],
   "source": [
    "if (simplify(D * spherical_laplacian + KF*(1 - c_out) - KB*c_out) != 0):\n",
    "    \n",
    "    raise ValueError(\"ERROR: Check the analytics again\")\n",
    "    \n",
    "print()"
   ]
  },
  {
   "cell_type": "markdown",
   "metadata": {},
   "source": [
    "### Solve for $C_3$ and $C_4$"
   ]
  },
  {
   "cell_type": "code",
   "execution_count": null,
   "metadata": {},
   "outputs": [],
   "source": [
    "c_out"
   ]
  },
  {
   "cell_type": "markdown",
   "metadata": {},
   "source": [
    "######################################################################################################################"
   ]
  },
  {
   "cell_type": "markdown",
   "metadata": {},
   "source": [
    "Use BC $\\#1 \\longrightarrow c_{out} \\vert_{r=\\infty} = c_{\\infty}$"
   ]
  },
  {
   "cell_type": "code",
   "execution_count": null,
   "metadata": {},
   "outputs": [],
   "source": [
    "limit(c_out, r, oo)"
   ]
  },
  {
   "cell_type": "code",
   "execution_count": null,
   "metadata": {
    "scrolled": true
   },
   "outputs": [],
   "source": [
    "### Hence C_4 = 0"
   ]
  },
  {
   "cell_type": "markdown",
   "metadata": {},
   "source": [
    "######################################################################################################################"
   ]
  },
  {
   "cell_type": "markdown",
   "metadata": {},
   "source": [
    "Use BC $\\#2 \\longrightarrow c_{out} \\vert_{r=R} = c^{eq}_{out}$"
   ]
  },
  {
   "cell_type": "code",
   "execution_count": null,
   "metadata": {},
   "outputs": [],
   "source": [
    "eq3 = Eq(c_out.subs({r:R, C_4:0}) - cEqOut, 0)\n",
    "\n",
    "eq3"
   ]
  },
  {
   "cell_type": "code",
   "execution_count": null,
   "metadata": {},
   "outputs": [],
   "source": [
    "solved_C_3 = solve(eq3, C_3)[0]\n",
    "\n",
    "solved_C_4 = 0"
   ]
  },
  {
   "cell_type": "code",
   "execution_count": null,
   "metadata": {},
   "outputs": [],
   "source": [
    "solved_C_3, solved_C_4"
   ]
  },
  {
   "cell_type": "markdown",
   "metadata": {},
   "source": [
    "######################################################################################################################"
   ]
  },
  {
   "cell_type": "code",
   "execution_count": null,
   "metadata": {},
   "outputs": [],
   "source": [
    "solved_c_out = c_out.subs({C_3:solved_C_3, C_4:solved_C_4})\n",
    "\n",
    "solved_c_out"
   ]
  },
  {
   "cell_type": "markdown",
   "metadata": {},
   "source": [
    "### Verify the solution by plugging it in the equation (again)"
   ]
  },
  {
   "cell_type": "code",
   "execution_count": null,
   "metadata": {},
   "outputs": [],
   "source": [
    "Image(\"laplacian3D.jpeg\", width = 500)"
   ]
  },
  {
   "cell_type": "code",
   "execution_count": null,
   "metadata": {},
   "outputs": [],
   "source": [
    "del_solved_c_out_by_del_r = diff(solved_c_out, r)"
   ]
  },
  {
   "cell_type": "code",
   "execution_count": null,
   "metadata": {},
   "outputs": [],
   "source": [
    "del_solved_c_out_by_del_phi = diff(solved_c_out, phi)"
   ]
  },
  {
   "cell_type": "code",
   "execution_count": null,
   "metadata": {},
   "outputs": [],
   "source": [
    "del_solved_c_out_by_del_theta = diff(solved_c_out, theta)"
   ]
  },
  {
   "cell_type": "code",
   "execution_count": null,
   "metadata": {},
   "outputs": [],
   "source": [
    "spherical_laplacian = (1/(r*r))*diff((del_solved_c_out_by_del_r*(r*r)), r) + \\\n",
    "                        (1/(r*r*sin(phi)*sin(phi)))*diff(del_solved_c_out_by_del_theta, theta) + \\\n",
    "                        (1/(r*r*sin(phi)))*diff((del_solved_c_out_by_del_phi*sin(phi)), phi)"
   ]
  },
  {
   "cell_type": "code",
   "execution_count": null,
   "metadata": {
    "scrolled": true
   },
   "outputs": [],
   "source": [
    "if (simplify(D * spherical_laplacian + KF*(1 - solved_c_out) - KB*solved_c_out) != 0):\n",
    "    \n",
    "    raise ValueError(\"ERROR: Check the analytics again\")\n",
    "    \n",
    "print()"
   ]
  },
  {
   "cell_type": "markdown",
   "metadata": {},
   "source": [
    "### Fluxes evaluated outside the droplet"
   ]
  },
  {
   "cell_type": "code",
   "execution_count": null,
   "metadata": {},
   "outputs": [],
   "source": [
    "Image(\"gradient3D.jpeg\", width = 300)"
   ]
  },
  {
   "cell_type": "code",
   "execution_count": null,
   "metadata": {},
   "outputs": [],
   "source": [
    "J_OUT = -D*(diff(solved_c_out, r) + (1/r)*diff(solved_c_out, phi) + (1/(r*sin(phi)))*diff(solved_c_out, theta))\n",
    "\n",
    "J_OUT_at_surface = J_OUT.subs({r:R})\n",
    "\n",
    "simplify(J_OUT_at_surface)"
   ]
  },
  {
   "cell_type": "markdown",
   "metadata": {},
   "source": [
    "######################################################################################################################"
   ]
  },
  {
   "cell_type": "markdown",
   "metadata": {},
   "source": [
    "## Passive Droplet check $\\longrightarrow A, B = 0$"
   ]
  },
  {
   "cell_type": "code",
   "execution_count": null,
   "metadata": {},
   "outputs": [],
   "source": [
    "J_OUT_at_surface_without_reactions = limit(limit(J_OUT_at_surface, KF, 0), KB, 0)\n",
    "\n",
    "J_OUT_at_surface_without_reactions"
   ]
  },
  {
   "cell_type": "code",
   "execution_count": null,
   "metadata": {},
   "outputs": [],
   "source": [
    "# if (simplify(J_OUT_at_surface_without_reactions) != 0):\n",
    "    \n",
    "#     raise ValueError(\"ERROR: Check the analytics again\")\n",
    "    \n",
    "# print()"
   ]
  },
  {
   "cell_type": "code",
   "execution_count": null,
   "metadata": {},
   "outputs": [],
   "source": [
    "J_OUT_at_surface_with_values = J_OUT_at_surface.subs({KF:1e-5, KB:1e-4, D:1, cEqOut:(2*0.0833)/R})\n",
    "\n",
    "J_OUT_at_surface_with_values"
   ]
  },
  {
   "cell_type": "markdown",
   "metadata": {},
   "source": [
    "######################################################################################################################"
   ]
  },
  {
   "cell_type": "markdown",
   "metadata": {},
   "source": [
    "######################################################################################################################"
   ]
  },
  {
   "cell_type": "markdown",
   "metadata": {},
   "source": [
    "######################################################################################################################"
   ]
  },
  {
   "cell_type": "code",
   "execution_count": null,
   "metadata": {},
   "outputs": [],
   "source": [
    "interface_velocity = (J_IN_at_surface_with_values - J_OUT_at_surface_with_values)/(1) # as cEqIn - cEqOut = 1\n",
    "\n",
    "interface_velocity"
   ]
  },
  {
   "cell_type": "code",
   "execution_count": null,
   "metadata": {},
   "outputs": [],
   "source": [
    "series_interface_velocity =  series(interface_velocity, R, n = 2).removeO().evalf(2)\n",
    "\n",
    "series_interface_velocity"
   ]
  },
  {
   "cell_type": "code",
   "execution_count": null,
   "metadata": {},
   "outputs": [],
   "source": [
    "list(solveset(series_interface_velocity, R))"
   ]
  },
  {
   "cell_type": "code",
   "execution_count": null,
   "metadata": {},
   "outputs": [],
   "source": [
    "stable_radius = list(solveset(series_interface_velocity, R))[2]\n",
    "\n",
    "stable_radius"
   ]
  },
  {
   "cell_type": "code",
   "execution_count": null,
   "metadata": {},
   "outputs": [],
   "source": [
    "CINF = 0.090909\n",
    "\n",
    "DIFFUSION = 1"
   ]
  },
  {
   "cell_type": "code",
   "execution_count": null,
   "metadata": {},
   "outputs": [],
   "source": [
    "np.sqrt(3*DIFFUSION*CINF/1e-4)"
   ]
  },
  {
   "cell_type": "code",
   "execution_count": null,
   "metadata": {},
   "outputs": [],
   "source": [
    "(2*0.08333)/CINF"
   ]
  },
  {
   "cell_type": "code",
   "execution_count": null,
   "metadata": {},
   "outputs": [],
   "source": [
    "from sympy.plotting import plot as symplot\n",
    "\n",
    "symplot((solved_c_in.subs({R:stable_radius, KF:1e-5, KB:1e-4, D:1, cEqIn:1 + (2*0.0833)/stable_radius}), \n",
    "         (r, 0, stable_radius)),\n",
    "        (solved_c_out.subs({R:stable_radius, KF:1e-5, KB:1e-4, D:1, cEqOut:(2*0.0833)/stable_radius}), \n",
    "         (r, stable_radius, 5*stable_radius)))"
   ]
  },
  {
   "cell_type": "code",
   "execution_count": null,
   "metadata": {},
   "outputs": [],
   "source": []
  }
 ],
 "metadata": {
  "kernelspec": {
   "display_name": "Python 3 (ipykernel)",
   "language": "python",
   "name": "python3"
  },
  "language_info": {
   "codemirror_mode": {
    "name": "ipython",
    "version": 3
   },
   "file_extension": ".py",
   "mimetype": "text/x-python",
   "name": "python",
   "nbconvert_exporter": "python",
   "pygments_lexer": "ipython3",
   "version": "3.8.11"
  }
 },
 "nbformat": 4,
 "nbformat_minor": 4
}
