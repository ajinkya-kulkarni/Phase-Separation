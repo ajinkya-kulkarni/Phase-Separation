{
 "cells": [
  {
   "cell_type": "markdown",
   "metadata": {},
   "source": [
    "# Active Emulsions"
   ]
  },
  {
   "cell_type": "code",
   "execution_count": 1,
   "metadata": {},
   "outputs": [],
   "source": [
    "import numpy as np\n",
    "import matplotlib.pyplot as plt\n",
    "import math\n",
    "import os, traceback, sys, h5py"
   ]
  },
  {
   "cell_type": "code",
   "execution_count": 2,
   "metadata": {},
   "outputs": [],
   "source": [
    "import pylab as p"
   ]
  },
  {
   "cell_type": "markdown",
   "metadata": {},
   "source": [
    "### Importing the code + PyPackage locally"
   ]
  },
  {
   "cell_type": "code",
   "execution_count": 3,
   "metadata": {},
   "outputs": [],
   "source": [
    "sys.path.append('/Users/ajinkyakulkarni/Desktop/GitHub/py-pde')\n",
    "import pde\n",
    "\n",
    "sys.path.append('/Users/ajinkyakulkarni/Desktop/GitHub/py-droplets')\n",
    "import droplets\n",
    "\n",
    "sys.path.append('/Users/ajinkyakulkarni/Desktop/GitHub/py-phasesep')\n",
    "import phasesep\n",
    "\n",
    "sys.path.append('/Users/ajinkyakulkarni/Desktop/GitHub/agent-based-emulsions')\n",
    "import agent_based"
   ]
  },
  {
   "cell_type": "markdown",
   "metadata": {},
   "source": [
    "######################################################################################################################"
   ]
  },
  {
   "cell_type": "code",
   "execution_count": 4,
   "metadata": {},
   "outputs": [
    {
     "name": "stderr",
     "output_type": "stream",
     "text": [
      "rm: *.txt: No such file or directory\n",
      "rm: *.hdf5: No such file or directory\n",
      "rm: *.png: No such file or directory\n"
     ]
    },
    {
     "data": {
      "text/plain": [
       "256"
      ]
     },
     "execution_count": 4,
     "metadata": {},
     "output_type": "execute_result"
    }
   ],
   "source": [
    "import os\n",
    "\n",
    "os.system('rm *.txt *.hdf5 *.png *.npy')"
   ]
  },
  {
   "cell_type": "code",
   "execution_count": 5,
   "metadata": {},
   "outputs": [
    {
     "data": {
      "text/plain": [
       "[2, 3]"
      ]
     },
     "execution_count": 5,
     "metadata": {},
     "output_type": "execute_result"
    }
   ],
   "source": [
    "dim_array = [3]\n",
    "\n",
    "dim_array"
   ]
  },
  {
   "cell_type": "code",
   "execution_count": 6,
   "metadata": {},
   "outputs": [],
   "source": [
    "KAPPA = 0.25\n",
    "\n",
    "PREFACTOR_FREE_ENERGY_DENSITY = 1 # b in f = (b/2)*c*c*(1-c)*(1-c)\n",
    "\n",
    "MOBILITY = 1\n",
    "\n",
    "DIFFUSION = PREFACTOR_FREE_ENERGY_DENSITY * MOBILITY\n",
    "\n",
    "GAMMA = (np.sqrt(PREFACTOR_FREE_ENERGY_DENSITY * KAPPA))/6\n",
    "\n",
    "################################################################\n",
    "\n",
    "KB = 1e-4\n",
    "\n",
    "KF = 1e-5\n",
    "\n",
    "C_INF = KF/(KF + KB)\n",
    "\n",
    "REACN_DIFF_LENGTH = np.sqrt(DIFFUSION / (KF + KB)) # Reaction - Diffusion lengthscale"
   ]
  },
  {
   "cell_type": "code",
   "execution_count": 7,
   "metadata": {},
   "outputs": [
    {
     "data": {
      "text/plain": [
       "(0.08333333333333333, 0.09090909090909091, 95.34625892455922)"
      ]
     },
     "execution_count": 7,
     "metadata": {},
     "output_type": "execute_result"
    }
   ],
   "source": [
    "GAMMA, C_INF, REACN_DIFF_LENGTH"
   ]
  },
  {
   "cell_type": "code",
   "execution_count": 8,
   "metadata": {},
   "outputs": [],
   "source": [
    "AGM_t_max = int(1e7)"
   ]
  },
  {
   "cell_type": "markdown",
   "metadata": {},
   "source": [
    "### Run simulation"
   ]
  },
  {
   "cell_type": "code",
   "execution_count": 9,
   "metadata": {
    "scrolled": true
   },
   "outputs": [
    {
     "data": {
      "application/vnd.jupyter.widget-view+json": {
       "model_id": "6abc3dc59d0c4d84a7fb5122c7bbd84c",
       "version_major": 2,
       "version_minor": 0
      },
      "text/plain": [
       "  0%|          | 0/10000000.0 [00:00<?, ?it/s]"
      ]
     },
     "metadata": {},
     "output_type": "display_data"
    },
    {
     "name": "stderr",
     "output_type": "stream",
     "text": [
      "Spent more time on handling trackers (531.5592759999994) than on the actual simulation (173.04796300000066)\n"
     ]
    },
    {
     "name": "stdout",
     "output_type": "stream",
     "text": [
      "\n",
      "Droplets occupy 0.41% of the 2D domain volume\n",
      "\n"
     ]
    },
    {
     "data": {
      "application/vnd.jupyter.widget-view+json": {
       "model_id": "480fdd82425d4e7fa363d01654935b93",
       "version_major": 2,
       "version_minor": 0
      },
      "text/plain": [
       "  0%|          | 0/10000000.0 [00:00<?, ?it/s]"
      ]
     },
     "metadata": {},
     "output_type": "display_data"
    },
    {
     "name": "stderr",
     "output_type": "stream",
     "text": [
      "Spent more time on handling trackers (551.0673039999982) than on the actual simulation (113.52190800000187)\n"
     ]
    },
    {
     "name": "stdout",
     "output_type": "stream",
     "text": [
      "\n",
      "Droplets occupy 0.13% of the 3D domain volume\n",
      "\n"
     ]
    }
   ],
   "source": [
    "N_DROPLETS = int(1e2)\n",
    "\n",
    "radius_of_droplets = np.random.uniform(50, 60, N_DROPLETS)\n",
    "\n",
    "SYSTEM_SIZE = int(1e3)\n",
    "    \n",
    "for dim in dim_array:\n",
    "\n",
    "    dimension = str(dim) + 'D'\n",
    "\n",
    "    AGM_grid = pde.CartesianGrid([(0, SYSTEM_SIZE)] * dim, 1, periodic=True)\n",
    "\n",
    "    position_of_droplets = []\n",
    "\n",
    "    for i in range(N_DROPLETS):\n",
    "\n",
    "        position_of_droplets.append(AGM_grid.get_random_point())\n",
    "\n",
    "    position_of_droplets = np.asarray(position_of_droplets)\n",
    "\n",
    "    list_of_droplets = [droplets.SphericalDroplet(position = position_of_droplets[i], \n",
    "                                                  radius = radius_of_droplets[i])\n",
    "\n",
    "                        for i in range(N_DROPLETS)]\n",
    "\n",
    "    Initial_Emulsion = droplets.Emulsion(droplets = list_of_droplets, grid = AGM_grid)\n",
    "\n",
    "    background = agent_based.ReactionDiffusionBackground({'diffusivity': DIFFUSION,\n",
    "                                                          'boundary_conditions': 'natural', \n",
    "                                                          'reaction_flux': f'({KF}) * (1 - c) - ({KB}) * c'})\n",
    "\n",
    "    initial_background = pde.ScalarField(AGM_grid, C_INF)\n",
    "\n",
    "    agents = agent_based.SphericalDropletAgents({'equilibrium_concentration': str(2*GAMMA) + str('/radius'),\n",
    "                                                 'shell_thickness': AGM_grid.discretization[0],\n",
    "                                                 'shell_sector_size': AGM_grid.discretization[0], \n",
    "                                                 'diffusivity': DIFFUSION,\n",
    "                                                 'drift_enabled': True,\n",
    "                                                 'reaction_outside': f'({KF}) * (1 - c) - ({KB}) * c',\n",
    "                                                 'reaction_inside': - KB})\n",
    "\n",
    "    simulation = agent_based.AgentSimulation(background, agents)\n",
    "\n",
    "    background_plus_agents = simulation.get_state(background = initial_background, agents = list_of_droplets)\n",
    "\n",
    "    droplet_tracker = agent_based.DropletAgentTracker(interval = int(AGM_t_max/1e5), \n",
    "                                                      store_droplet_tracks = True, \n",
    "                                                      store_emulsions = True)\n",
    "\n",
    "    timestep = 0.1*simulation.estimate_dt(background_plus_agents)\n",
    "\n",
    "    result = simulation.run(background_plus_agents, t_range = AGM_t_max,\n",
    "                            dt = timestep,\n",
    "                            tracker = ['progress', droplet_tracker], \n",
    "                            backend = 'numba')\n",
    "    print()\n",
    "\n",
    "    single_droplet_timestamps = []\n",
    "\n",
    "    single_droplet_radius = []\n",
    "\n",
    "    for droplet in range(N_DROPLETS):\n",
    "\n",
    "        single_droplet_track = droplet_tracker.droplet_tracks[droplet]\n",
    "\n",
    "        single_droplet_track_info = single_droplet_track.data\n",
    "\n",
    "        #######################################################################\n",
    "\n",
    "        single_droplet_timestamps.append(single_droplet_track_info['time'])\n",
    "\n",
    "        single_droplet_radius.append(single_droplet_track_info['radius'])\n",
    "\n",
    "    filename_T = str('time_') + str(dim) + 'D.npy'\n",
    "\n",
    "    filename_R = str('radius_') + str(dim) + 'D.npy'\n",
    "\n",
    "    np.save(filename_T, single_droplet_timestamps)\n",
    "\n",
    "    np.save(filename_R, single_droplet_radius)\n",
    "    \n",
    "    if dim == 2:\n",
    "        \n",
    "        print('Droplets occupy ' + \n",
    "              str(round(100 * result.agents.droplets.get_size_statistics()['volume_mean'] / (SYSTEM_SIZE**2), 2)) + \n",
    "              '% of the ' + str(dim) + 'D domain volume')\n",
    "\n",
    "    if dim == 3:\n",
    "        \n",
    "        print('Droplets occupy ' + \n",
    "              str(round(100 * result.agents.droplets.get_size_statistics()['volume_mean'] / (SYSTEM_SIZE**3), 2)) + \n",
    "              '% of the ' + str(dim) + 'D domain volume')\n",
    "\n",
    "    print()"
   ]
  },
  {
   "cell_type": "code",
   "execution_count": 10,
   "metadata": {},
   "outputs": [],
   "source": [
    "# if dimension == '2D':\n",
    "    \n",
    "#     Initial_Emulsion.plot(title = '2D Initial Emulsion')\n",
    "    \n",
    "# if dimension == '3D':\n",
    "    \n",
    "#     from mpl_toolkits.mplot3d import Axes3D\n",
    "\n",
    "#     fig = plt.figure(figsize=(10, 8))\n",
    "#     ax = fig.add_subplot(111, projection='3d')\n",
    "#     ax.set_aspect(\"auto\")\n",
    "    \n",
    "#     ax.scatter(SYSTEM_SIZE*seq[:,0], \n",
    "#                SYSTEM_SIZE*seq[:,1], \n",
    "#                SYSTEM_SIZE*seq[:,2], \n",
    "#                c = 'steelblue',\n",
    "#                s = 2*radius_of_droplets, edgecolors = 'k', linewidths = 2)\n",
    "    \n",
    "#     plt.title('3D Initial Emulsion')\n",
    "\n",
    "#     plt.show()"
   ]
  },
  {
   "cell_type": "markdown",
   "metadata": {},
   "source": [
    "######################################################################################################################"
   ]
  },
  {
   "cell_type": "code",
   "execution_count": 11,
   "metadata": {},
   "outputs": [],
   "source": [
    "# if dimension == '2D':\n",
    "    \n",
    "#     result.plot(elements = 'droplets', title = '2D Final Emulsion')\n",
    "    \n",
    "#     droplet_tracker.droplet_tracks.plot_positions(title = '2D Droplet Tracks')\n",
    "    \n",
    "# if dimension == '3D':\n",
    "    \n",
    "#     from mpl_toolkits.mplot3d import Axes3D\n",
    "\n",
    "#     fig = plt.figure(figsize=(12,10))\n",
    "#     ax = fig.add_subplot(111, projection='3d')\n",
    "#     ax.set_aspect(\"auto\")\n",
    "    \n",
    "#     ax.scatter(droplet_tracker.emulsions.emulsions[-1].data['position'][:, 0], \n",
    "#                droplet_tracker.emulsions.emulsions[-1].data['position'][:, 1], \n",
    "#                droplet_tracker.emulsions.emulsions[-1].data['position'][:, 2], \n",
    "#                c = 'steelblue',\n",
    "#                s = 5*droplet_tracker.emulsions.emulsions[-1].data['radius'], edgecolors = 'k', linewidths = 2)\n",
    "\n",
    "#     plt.show()"
   ]
  },
  {
   "cell_type": "code",
   "execution_count": null,
   "metadata": {},
   "outputs": [],
   "source": []
  }
 ],
 "metadata": {
  "kernelspec": {
   "display_name": "Python 3 (ipykernel)",
   "language": "python",
   "name": "python3"
  },
  "language_info": {
   "codemirror_mode": {
    "name": "ipython",
    "version": 3
   },
   "file_extension": ".py",
   "mimetype": "text/x-python",
   "name": "python",
   "nbconvert_exporter": "python",
   "pygments_lexer": "ipython3",
   "version": "3.8.11"
  }
 },
 "nbformat": 4,
 "nbformat_minor": 4
}
